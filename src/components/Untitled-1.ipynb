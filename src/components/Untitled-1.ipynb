{
 "cells": [
  {
   "cell_type": "code",
   "execution_count": null,
   "metadata": {},
   "outputs": [],
   "source": [
    "class myclass:\n",
    "    def __init__(self, a, b, c):\n",
    "        self.a = a\n",
    "        self.b = b\n",
    "        self.c = c\n",
    "        self.id = f\"{a}-{b}-{c}\"\n",
    "\n",
    "# Create an instance of myclass with arguments a='1', b='3', c='4'\n",
    "instance = myclass(a='1', b='3', c='4')\n",
    "\n",
    "# Access the id field\n",
    "print(instance.id)"
   ]
  },
  {
   "cell_type": "code",
   "execution_count": null,
   "metadata": {},
   "outputs": [],
   "source": [
    "from unittest.mock import MagicMock\n",
    "\n",
    "class myclass:\n",
    "    def __init__(self, a, b, c):\n",
    "        self.a = a\n",
    "        self.b = b\n",
    "        self.c = c\n",
    "        self.id = f\"{a}-{b}-{c}\"\n",
    "\n",
    "# Create a mock object of myclass with specific arguments and id field\n",
    "mock_instance = MagicMock(spec=myclass, a='1', b='3', c='4')\n",
    "\n",
    "# Access the id field of the mock instance\n",
    "print(mock_instance.id)"
   ]
  },
  {
   "cell_type": "code",
   "execution_count": null,
   "metadata": {},
   "outputs": [],
   "source": [
    "from unittest.mock import MagicMock\n",
    "\n",
    "class myclass:\n",
    "    def __init__(self, a, b, c):\n",
    "        self.a = a\n",
    "        self.b = b\n",
    "        self.c = c\n",
    "        self.id = f\"{a}-{b}-{c}\"\n",
    "\n",
    "def another_function(obj):\n",
    "    print(obj.id)\n",
    "\n",
    "# Create a mock object of myclass with specific arguments and id field\n",
    "mock_instance = MagicMock(spec=myclass, a='1', b='3', c='4', id='1-3-4')\n",
    "\n",
    "# Call the function with the mock object\n",
    "another_function(mock_instance)\n",
    "\n",
    "# Assert that the id field of the mock instance was accessed\n",
    "mock_instance.id.assert_called_once()"
   ]
  }
 ],
 "metadata": {
  "language_info": {
   "name": "python"
  }
 },
 "nbformat": 4,
 "nbformat_minor": 2
}
